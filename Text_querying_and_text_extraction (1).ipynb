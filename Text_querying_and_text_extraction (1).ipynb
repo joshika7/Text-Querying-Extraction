{
  "cells": [
    {
      "cell_type": "markdown",
      "metadata": {
        "id": "zJgRajNvay5M"
      },
      "source": [
        "This is a project which aims at extracting and querying text from an image containing text(OCR).\n",
        "Libraries majorly used are pytesseract and transformers!\n",
        "\n",
        "*   Pytesseract is a Python wrapper for Tesseract-OCR, an open-source optical character recognition (OCR) engine maintained by Google. OCR is a technology that enables machines to recognize text within images. Pytesseract makes it easy to use Tesseract-OCR in Python applications by providing a simple interface to interact with the Tesseract engine.\n",
        "*   Hugging Face's Transformers library is an open-source library that provides a wide range of pre-trained models and tools for natural language processing (NLP) tasks, built on the Transformer architecture. It has pre-trained models, pipeline API, tokenizer. Pipeline API allows users to easily perform common NLP tasks without the need for extensive coding or model configuration. With just a few lines of code, users can set up pipelines for tasks like text classification, sentiment analysis, named entity recognition, translation, summarization, and more.\n",
        "\n",
        "*   Pillow  adds image processing capabilities to your Python interpreter. This library provides extensive file format support, powerful image processing capabilities, and simple yet powerful image manipulation tools.\n",
        "\n",
        "\n",
        "\n",
        "\n",
        "\n"
      ]
    },
    {
      "cell_type": "code",
      "execution_count": null,
      "metadata": {
        "colab": {
          "base_uri": "https://localhost:8080/"
        },
        "id": "hGHBQmSqAvui",
        "outputId": "8d8d567a-052a-4d63-adde-6011bfa53402"
      },
      "outputs": [
        {
          "output_type": "stream",
          "name": "stdout",
          "text": [
            "Reading package lists... Done\n",
            "Building dependency tree... Done\n",
            "Reading state information... Done\n",
            "The following additional packages will be installed:\n",
            "  tesseract-ocr-eng tesseract-ocr-osd\n",
            "The following NEW packages will be installed:\n",
            "  tesseract-ocr tesseract-ocr-eng tesseract-ocr-osd\n",
            "0 upgraded, 3 newly installed, 0 to remove and 45 not upgraded.\n",
            "Need to get 4,816 kB of archives.\n",
            "After this operation, 15.6 MB of additional disk space will be used.\n",
            "Get:1 http://archive.ubuntu.com/ubuntu jammy/universe amd64 tesseract-ocr-eng all 1:4.00~git30-7274cfa-1.1 [1,591 kB]\n",
            "Get:2 http://archive.ubuntu.com/ubuntu jammy/universe amd64 tesseract-ocr-osd all 1:4.00~git30-7274cfa-1.1 [2,990 kB]\n",
            "Get:3 http://archive.ubuntu.com/ubuntu jammy/universe amd64 tesseract-ocr amd64 4.1.1-2.1build1 [236 kB]\n",
            "Fetched 4,816 kB in 0s (24.5 MB/s)\n",
            "debconf: unable to initialize frontend: Dialog\n",
            "debconf: (No usable dialog-like program is installed, so the dialog based frontend cannot be used. at /usr/share/perl5/Debconf/FrontEnd/Dialog.pm line 78, <> line 3.)\n",
            "debconf: falling back to frontend: Readline\n",
            "debconf: unable to initialize frontend: Readline\n",
            "debconf: (This frontend requires a controlling tty.)\n",
            "debconf: falling back to frontend: Teletype\n",
            "dpkg-preconfigure: unable to re-open stdin: \n",
            "Selecting previously unselected package tesseract-ocr-eng.\n",
            "(Reading database ... 121920 files and directories currently installed.)\n",
            "Preparing to unpack .../tesseract-ocr-eng_1%3a4.00~git30-7274cfa-1.1_all.deb ...\n",
            "Unpacking tesseract-ocr-eng (1:4.00~git30-7274cfa-1.1) ...\n",
            "Selecting previously unselected package tesseract-ocr-osd.\n",
            "Preparing to unpack .../tesseract-ocr-osd_1%3a4.00~git30-7274cfa-1.1_all.deb ...\n",
            "Unpacking tesseract-ocr-osd (1:4.00~git30-7274cfa-1.1) ...\n",
            "Selecting previously unselected package tesseract-ocr.\n",
            "Preparing to unpack .../tesseract-ocr_4.1.1-2.1build1_amd64.deb ...\n",
            "Unpacking tesseract-ocr (4.1.1-2.1build1) ...\n",
            "Setting up tesseract-ocr-eng (1:4.00~git30-7274cfa-1.1) ...\n",
            "Setting up tesseract-ocr-osd (1:4.00~git30-7274cfa-1.1) ...\n",
            "Setting up tesseract-ocr (4.1.1-2.1build1) ...\n",
            "Processing triggers for man-db (2.10.2-1) ...\n",
            "Reading package lists... Done\n",
            "Building dependency tree... Done\n",
            "Reading state information... Done\n",
            "The following additional packages will be installed:\n",
            "  libarchive-dev libleptonica-dev\n",
            "The following NEW packages will be installed:\n",
            "  libarchive-dev libleptonica-dev libtesseract-dev\n",
            "0 upgraded, 3 newly installed, 0 to remove and 45 not upgraded.\n",
            "Need to get 3,743 kB of archives.\n",
            "After this operation, 16.0 MB of additional disk space will be used.\n",
            "Get:1 http://archive.ubuntu.com/ubuntu jammy/main amd64 libarchive-dev amd64 3.6.0-1ubuntu1 [581 kB]\n",
            "Get:2 http://archive.ubuntu.com/ubuntu jammy/universe amd64 libleptonica-dev amd64 1.82.0-3build1 [1,562 kB]\n",
            "Get:3 http://archive.ubuntu.com/ubuntu jammy/universe amd64 libtesseract-dev amd64 4.1.1-2.1build1 [1,600 kB]\n",
            "Fetched 3,743 kB in 0s (23.1 MB/s)\n",
            "debconf: unable to initialize frontend: Dialog\n",
            "debconf: (No usable dialog-like program is installed, so the dialog based frontend cannot be used. at /usr/share/perl5/Debconf/FrontEnd/Dialog.pm line 78, <> line 3.)\n",
            "debconf: falling back to frontend: Readline\n",
            "debconf: unable to initialize frontend: Readline\n",
            "debconf: (This frontend requires a controlling tty.)\n",
            "debconf: falling back to frontend: Teletype\n",
            "dpkg-preconfigure: unable to re-open stdin: \n",
            "Selecting previously unselected package libarchive-dev:amd64.\n",
            "(Reading database ... 121967 files and directories currently installed.)\n",
            "Preparing to unpack .../libarchive-dev_3.6.0-1ubuntu1_amd64.deb ...\n",
            "Unpacking libarchive-dev:amd64 (3.6.0-1ubuntu1) ...\n",
            "Selecting previously unselected package libleptonica-dev.\n",
            "Preparing to unpack .../libleptonica-dev_1.82.0-3build1_amd64.deb ...\n",
            "Unpacking libleptonica-dev (1.82.0-3build1) ...\n",
            "Selecting previously unselected package libtesseract-dev:amd64.\n",
            "Preparing to unpack .../libtesseract-dev_4.1.1-2.1build1_amd64.deb ...\n",
            "Unpacking libtesseract-dev:amd64 (4.1.1-2.1build1) ...\n",
            "Setting up libleptonica-dev (1.82.0-3build1) ...\n",
            "Setting up libarchive-dev:amd64 (3.6.0-1ubuntu1) ...\n",
            "Setting up libtesseract-dev:amd64 (4.1.1-2.1build1) ...\n",
            "Processing triggers for man-db (2.10.2-1) ...\n"
          ]
        }
      ],
      "source": [
        " !sudo apt install tesseract-ocr\n",
        "!sudo apt install libtesseract-dev"
      ]
    },
    {
      "cell_type": "code",
      "execution_count": null,
      "metadata": {
        "colab": {
          "base_uri": "https://localhost:8080/"
        },
        "id": "-ceBSLXvyQRZ",
        "outputId": "29c58b81-8005-4091-e6fe-64adeaa6e36f"
      },
      "outputs": [
        {
          "output_type": "stream",
          "name": "stdout",
          "text": [
            "Requirement already satisfied: Pillow in /usr/local/lib/python3.10/dist-packages (9.4.0)\n",
            "Collecting pytesseract\n",
            "  Downloading pytesseract-0.3.10-py3-none-any.whl (14 kB)\n",
            "Requirement already satisfied: packaging>=21.3 in /usr/local/lib/python3.10/dist-packages (from pytesseract) (24.0)\n",
            "Requirement already satisfied: Pillow>=8.0.0 in /usr/local/lib/python3.10/dist-packages (from pytesseract) (9.4.0)\n",
            "Installing collected packages: pytesseract\n",
            "Successfully installed pytesseract-0.3.10\n",
            "Requirement already satisfied: transformers in /usr/local/lib/python3.10/dist-packages (4.40.1)\n",
            "Requirement already satisfied: filelock in /usr/local/lib/python3.10/dist-packages (from transformers) (3.14.0)\n",
            "Requirement already satisfied: huggingface-hub<1.0,>=0.19.3 in /usr/local/lib/python3.10/dist-packages (from transformers) (0.20.3)\n",
            "Requirement already satisfied: numpy>=1.17 in /usr/local/lib/python3.10/dist-packages (from transformers) (1.25.2)\n",
            "Requirement already satisfied: packaging>=20.0 in /usr/local/lib/python3.10/dist-packages (from transformers) (24.0)\n",
            "Requirement already satisfied: pyyaml>=5.1 in /usr/local/lib/python3.10/dist-packages (from transformers) (6.0.1)\n",
            "Requirement already satisfied: regex!=2019.12.17 in /usr/local/lib/python3.10/dist-packages (from transformers) (2023.12.25)\n",
            "Requirement already satisfied: requests in /usr/local/lib/python3.10/dist-packages (from transformers) (2.31.0)\n",
            "Requirement already satisfied: tokenizers<0.20,>=0.19 in /usr/local/lib/python3.10/dist-packages (from transformers) (0.19.1)\n",
            "Requirement already satisfied: safetensors>=0.4.1 in /usr/local/lib/python3.10/dist-packages (from transformers) (0.4.3)\n",
            "Requirement already satisfied: tqdm>=4.27 in /usr/local/lib/python3.10/dist-packages (from transformers) (4.66.2)\n",
            "Requirement already satisfied: fsspec>=2023.5.0 in /usr/local/lib/python3.10/dist-packages (from huggingface-hub<1.0,>=0.19.3->transformers) (2023.6.0)\n",
            "Requirement already satisfied: typing-extensions>=3.7.4.3 in /usr/local/lib/python3.10/dist-packages (from huggingface-hub<1.0,>=0.19.3->transformers) (4.11.0)\n",
            "Requirement already satisfied: charset-normalizer<4,>=2 in /usr/local/lib/python3.10/dist-packages (from requests->transformers) (3.3.2)\n",
            "Requirement already satisfied: idna<4,>=2.5 in /usr/local/lib/python3.10/dist-packages (from requests->transformers) (3.7)\n",
            "Requirement already satisfied: urllib3<3,>=1.21.1 in /usr/local/lib/python3.10/dist-packages (from requests->transformers) (2.0.7)\n",
            "Requirement already satisfied: certifi>=2017.4.17 in /usr/local/lib/python3.10/dist-packages (from requests->transformers) (2024.2.2)\n"
          ]
        }
      ],
      "source": [
        "!pip install Pillow\n",
        "!pip install pytesseract\n",
        "!pip install transformers"
      ]
    },
    {
      "cell_type": "code",
      "execution_count": null,
      "metadata": {
        "id": "0oP5QCK8BPIl"
      },
      "outputs": [],
      "source": [
        "img_path=\"/content/letter.jpg\""
      ]
    },
    {
      "cell_type": "markdown",
      "metadata": {
        "id": "J7gB2RSJlJvF"
      },
      "source": [
        "Making use of pre-trained and fine tuned impira models!"
      ]
    },
    {
      "cell_type": "code",
      "execution_count": null,
      "metadata": {
        "id": "uwR3uvLOwjnu"
      },
      "outputs": [],
      "source": [
        "model_checkpoints={\"Layout for Invoices\":\"impira/layoutlm-invoices\",\"LayoutLMv1\":\"impira/layoutlm-document-qa\",\"Donut\":\"naver-clova-ix/donut-base-finetuned-docvqa\"}"
      ]
    },
    {
      "cell_type": "markdown",
      "metadata": {
        "id": "fHSYi9Iylixv"
      },
      "source": [
        "In the context of Transformers in NLP, a pipeline refers to a high-level interface provided by libraries such as Hugging Face's Transformers library. This interface simplifies the process of using pre-trained Transformer models for various NLP tasks, allowing users to quickly perform inference on input text without the need to implement the underlying model architecture themselves."
      ]
    },
    {
      "cell_type": "code",
      "execution_count": null,
      "metadata": {
        "colab": {
          "base_uri": "https://localhost:8080/"
        },
        "id": "FvkJFb0UiF7i",
        "outputId": "d7006664-c654-464e-ae2c-07b4895ab605"
      },
      "outputs": [
        {
          "output_type": "stream",
          "name": "stderr",
          "text": [
            "Some weights of the model checkpoint at impira/layoutlm-invoices were not used when initializing LayoutLMForQuestionAnswering: ['token_classifier_head.bias', 'token_classifier_head.weight']\n",
            "- This IS expected if you are initializing LayoutLMForQuestionAnswering from the checkpoint of a model trained on another task or with another architecture (e.g. initializing a BertForSequenceClassification model from a BertForPreTraining model).\n",
            "- This IS NOT expected if you are initializing LayoutLMForQuestionAnswering from the checkpoint of a model that you expect to be exactly identical (initializing a BertForSequenceClassification model from a BertForSequenceClassification model).\n"
          ]
        }
      ],
      "source": [
        "from transformers import pipeline\n",
        "pipe=pipeline(\"document-question-answering\",model=model_checkpoints[\"Layout for Invoices\"])"
      ]
    },
    {
      "cell_type": "markdown",
      "metadata": {
        "id": "kfi4-coAn8wW"
      },
      "source": [
        "Initializes a question-answering pipeline. It's document-based question answering, which means the pipeline is designed to answer questions based on the content of documents, using the pre-trained models"
      ]
    },
    {
      "cell_type": "markdown",
      "metadata": {
        "id": "ymtTO1Mvw1TU"
      },
      "source": [
        "Output -\n",
        "\n",
        "\n",
        "1.   score - tells how confident the model is on the answer given\n",
        "2.   answer - predicted answer\n",
        "3.   start  and end - \"start\" and \"end\" are used to denote the positions of relevant tokens within the input text.\n",
        "\n"
      ]
    },
    {
      "cell_type": "markdown",
      "metadata": {
        "id": "TaUBDE6epxqi"
      },
      "source": [
        "PLAIN TEXT QUERYING FROM AN IMAGE"
      ]
    },
    {
      "cell_type": "code",
      "execution_count": null,
      "metadata": {
        "colab": {
          "base_uri": "https://localhost:8080/"
        },
        "id": "W7czRypqiXKt",
        "outputId": "d4464421-3d7d-41f7-8982-0547d0ab4346"
      },
      "outputs": [
        {
          "output_type": "execute_result",
          "data": {
            "text/plain": [
              "[{'score': 0.9763717651367188,\n",
              "  'answer': '6 July 2010',\n",
              "  'start': 12,\n",
              "  'end': 14}]"
            ]
          },
          "metadata": {},
          "execution_count": 14
        }
      ],
      "source": [
        "pipe(image=img_path,question=\"what is the date mentioned on the letter?\")"
      ]
    },
    {
      "cell_type": "code",
      "execution_count": null,
      "metadata": {
        "colab": {
          "base_uri": "https://localhost:8080/"
        },
        "id": "reO6vEX0Wwf9",
        "outputId": "8e5a0935-d2c7-4b04-b6b8-d0e3d5245ccb"
      },
      "outputs": [
        {
          "output_type": "execute_result",
          "data": {
            "text/plain": [
              "[{'score': 0.9999606609344482,\n",
              "  'answer': 'Ravi Menon',\n",
              "  'start': 141,\n",
              "  'end': 142}]"
            ]
          },
          "metadata": {},
          "execution_count": 15
        }
      ],
      "source": [
        "pipe(image=img_path,question=\"Who is writing the letter?\")"
      ]
    },
    {
      "cell_type": "code",
      "execution_count": null,
      "metadata": {
        "colab": {
          "base_uri": "https://localhost:8080/"
        },
        "id": "8ZdQk8l8k8ot",
        "outputId": "20e4cee4-2b1b-45b9-d34a-69ac785c3cca"
      },
      "outputs": [
        {
          "output_type": "execute_result",
          "data": {
            "text/plain": [
              "[{'score': 0.9441527128219604, 'answer': 'The Manager', 'start': 5, 'end': 6}]"
            ]
          },
          "metadata": {},
          "execution_count": 19
        }
      ],
      "source": [
        "pipe(image=img_path,question=\"What is the job refernce in the letter?\")"
      ]
    },
    {
      "cell_type": "code",
      "execution_count": null,
      "metadata": {
        "colab": {
          "base_uri": "https://localhost:8080/"
        },
        "id": "4wjRlCZ4SAik",
        "outputId": "2621426d-7e2a-4709-8796-8ee99ab211f6"
      },
      "outputs": [
        {
          "output_type": "execute_result",
          "data": {
            "text/plain": [
              "[{'score': 0.015354047529399395, 'answer': '17', 'start': 1, 'end': 1}]"
            ]
          },
          "metadata": {},
          "execution_count": 20
        }
      ],
      "source": [
        "pipe(image=img_path,question=\"What is the email id mentioned?\")"
      ]
    },
    {
      "cell_type": "code",
      "execution_count": null,
      "metadata": {
        "colab": {
          "base_uri": "https://localhost:8080/"
        },
        "id": "1KQnHHSqnYTy",
        "outputId": "1573e770-c4de-4293-8717-c87e30499e8d"
      },
      "outputs": [
        {
          "output_type": "execute_result",
          "data": {
            "text/plain": [
              "[{'score': 0.1301102638244629, 'answer': 'Vashi', 'start': 2, 'end': 2}]"
            ]
          },
          "metadata": {},
          "execution_count": 22
        }
      ],
      "source": [
        "pipe(image=img_path,question=\"What is the address mentioned?\")"
      ]
    },
    {
      "cell_type": "markdown",
      "metadata": {
        "id": "QKFUqHREnyeR"
      },
      "source": [
        "Issue : The questions which are completely out of context are being given some random answers."
      ]
    },
    {
      "cell_type": "code",
      "execution_count": null,
      "metadata": {
        "colab": {
          "base_uri": "https://localhost:8080/"
        },
        "id": "i_ijDSN0noQd",
        "outputId": "fda1881a-818d-42d6-e346-69849bc3af40"
      },
      "outputs": [
        {
          "output_type": "execute_result",
          "data": {
            "text/plain": [
              "[{'score': 0.0004014022706542164, 'answer': '12', 'start': 65, 'end': 65}]"
            ]
          },
          "metadata": {},
          "execution_count": 24
        }
      ],
      "source": [
        "pipe(image=img_path,question=\"What is the cost of apples?\")"
      ]
    },
    {
      "cell_type": "markdown",
      "metadata": {
        "id": "RJv2Rp0mql4D"
      },
      "source": [
        "TABLE DATA QUERYING FROM AN IMAGE"
      ]
    },
    {
      "cell_type": "code",
      "execution_count": null,
      "metadata": {
        "id": "LMZp44nJquV1"
      },
      "outputs": [],
      "source": [
        "img_path1=\"/content/abc.webp\""
      ]
    },
    {
      "cell_type": "code",
      "execution_count": null,
      "metadata": {
        "colab": {
          "base_uri": "https://localhost:8080/"
        },
        "id": "19WlBg_Uq76G",
        "outputId": "05533905-c46d-4654-e703-81f5223f8d30"
      },
      "outputs": [
        {
          "data": {
            "text/plain": [
              "[{'score': 0.9998950958251953,\n",
              "  'answer': 'ABC Company John Smith',\n",
              "  'start': 15,\n",
              "  'end': 18}]"
            ]
          },
          "execution_count": 29,
          "metadata": {},
          "output_type": "execute_result"
        }
      ],
      "source": [
        "pipe(image=img_path1,question=\"What is the Company Name?\")"
      ]
    },
    {
      "cell_type": "code",
      "execution_count": null,
      "metadata": {
        "colab": {
          "base_uri": "https://localhost:8080/"
        },
        "id": "7JWpDjo6vzhO",
        "outputId": "f104b7f1-d4a5-4f38-ca5c-c3180c699ba7"
      },
      "outputs": [
        {
          "output_type": "execute_result",
          "data": {
            "text/plain": [
              "[{'score': 0.9555206894874573,\n",
              "  'answer': '+123-456-7890',\n",
              "  'start': 5,\n",
              "  'end': 5}]"
            ]
          },
          "metadata": {},
          "execution_count": 26
        }
      ],
      "source": [
        "pipe(image=img_path1,question=\"What is the Mobile number?\")"
      ]
    },
    {
      "cell_type": "code",
      "execution_count": null,
      "metadata": {
        "colab": {
          "base_uri": "https://localhost:8080/"
        },
        "id": "YTne6r-ev8dS",
        "outputId": "ab1477a1-1053-435c-f326-88cad0492404"
      },
      "outputs": [
        {
          "output_type": "execute_result",
          "data": {
            "text/plain": [
              "[{'score': 1.680503373790998e-05,\n",
              "  'answer': 'Samira Hadid',\n",
              "  'start': 57,\n",
              "  'end': 58}]"
            ]
          },
          "metadata": {},
          "execution_count": 27
        }
      ],
      "source": [
        "pipe(image=img_path1,question=\"What is the gmail id?\")"
      ]
    },
    {
      "cell_type": "code",
      "execution_count": null,
      "metadata": {
        "colab": {
          "base_uri": "https://localhost:8080/"
        },
        "id": "ymoN9K3DwCou",
        "outputId": "bf7feed1-8fd2-4c73-deaf-f8203319894c"
      },
      "outputs": [
        {
          "output_type": "execute_result",
          "data": {
            "text/plain": [
              "[{'score': 0.9949294328689575, 'answer': '$500', 'start': 48, 'end': 48}]"
            ]
          },
          "metadata": {},
          "execution_count": 28
        }
      ],
      "source": [
        "pipe(image=img_path1,question=\"What is the total?\")"
      ]
    },
    {
      "cell_type": "code",
      "execution_count": null,
      "metadata": {
        "colab": {
          "base_uri": "https://localhost:8080/"
        },
        "id": "D6NxlcjywKZ3",
        "outputId": "e062d944-e1b1-4b39-dca6-df1fa22bb505"
      },
      "outputs": [
        {
          "output_type": "execute_result",
          "data": {
            "text/plain": [
              "[{'score': 0.9388036727905273, 'answer': '$123', 'start': 28, 'end': 28}]"
            ]
          },
          "metadata": {},
          "execution_count": 29
        }
      ],
      "source": [
        "pipe(image=img_path1,question=\"What is the cost for Service 1?\")"
      ]
    },
    {
      "cell_type": "code",
      "execution_count": null,
      "metadata": {
        "colab": {
          "base_uri": "https://localhost:8080/"
        },
        "id": "oHwGCyciwZhT",
        "outputId": "02b57f0a-1733-46da-fa97-ec0d3c835777"
      },
      "outputs": [
        {
          "output_type": "execute_result",
          "data": {
            "text/plain": [
              "[{'score': 2.879996827687137e-07, 'answer': '$123', 'start': 28, 'end': 28}]"
            ]
          },
          "metadata": {},
          "execution_count": 32
        }
      ],
      "source": [
        "pipe(image=img_path1,question=\"What is the cost for Service 3?\")"
      ]
    },
    {
      "cell_type": "code",
      "execution_count": null,
      "metadata": {
        "colab": {
          "base_uri": "https://localhost:8080/"
        },
        "id": "HK0-E0r9wfOV",
        "outputId": "dc40128a-689d-4ed1-e79c-98a71c4ae5dd"
      },
      "outputs": [
        {
          "output_type": "execute_result",
          "data": {
            "text/plain": [
              "[{'score': 1.1058653399231844e-05, 'answer': '$123', 'start': 28, 'end': 28}]"
            ]
          },
          "metadata": {},
          "execution_count": 33
        }
      ],
      "source": [
        "pipe(image=img_path1,question=\"What is the cost for Nest Smart Filter?\")"
      ]
    },
    {
      "cell_type": "markdown",
      "metadata": {
        "id": "P8nWZHLrgDhr"
      },
      "source": [
        "TEXT EXTRACTION FROM AN IMAGE"
      ]
    },
    {
      "cell_type": "code",
      "execution_count": null,
      "metadata": {
        "id": "hLUXQaa_R-XR"
      },
      "outputs": [],
      "source": [
        "import pytesseract\n",
        "import cv2\n",
        "import PIL"
      ]
    },
    {
      "cell_type": "code",
      "execution_count": null,
      "metadata": {
        "id": "R0T6cIpzUzUn"
      },
      "outputs": [],
      "source": [
        "from PIL import Image"
      ]
    },
    {
      "cell_type": "markdown",
      "metadata": {
        "id": "s4nzFaFFoMDl"
      },
      "source": [
        "PSM - page Segmentation Mode\n",
        "\n",
        "1.   PSM 0 - Orientation and Script Detection Only\n",
        "2.   PSM 1 - Automatic Page Segmentation with OSD\n",
        "3.   PSM 2 -  Automatic Page Segmentation, But No OSD, or OCR\n",
        "4.   PSM 3 - Fully Automatic Page Segmentation, But No OSD\n",
        "5.   PSM 4 - Assume a Single Column of Text of Variable Sizes\n",
        "6.   PSM 5 - Assume a Single Uniform Block of Vertically Aligned Text\n",
        "7.   PSM 6 - Assume a Single Uniform Block of Text\n",
        "8.   PSM 7 - Treat the Image as a Single Text Line\n",
        "9.   PSM 8 - Treat the Image as a Single Word\n",
        "10.  Treat the Image as a Single Word in a Circle  \n",
        "11.  PSM 10 - Treat the Image as a Single Character\n",
        "12.  PSM 11 - Sparse Text: Find as Much Text as Possible in No Particular Order\n",
        "13.  PSM 12 - Sparse Text with OSD\n",
        "14.  PSM 13 - Raw Line: Treat the Image as a Single Text Line, Bypassing Hacks  That Are Tesseract-Specific\n",
        "\n",
        "\n",
        "\n"
      ]
    },
    {
      "cell_type": "markdown",
      "metadata": {
        "id": "qdnKAYZhgfDf"
      },
      "source": [
        "PLAIN TEXT EXTRACTION"
      ]
    },
    {
      "cell_type": "code",
      "execution_count": null,
      "metadata": {
        "colab": {
          "base_uri": "https://localhost:8080/",
          "height": 193
        },
        "id": "outzn0lVU8NY",
        "outputId": "45440381-0a00-423d-bc00-c6fc4a859000"
      },
      "outputs": [
        {
          "output_type": "error",
          "ename": "NameError",
          "evalue": "name 'pytesseract' is not defined",
          "traceback": [
            "\u001b[0;31m---------------------------------------------------------------------------\u001b[0m",
            "\u001b[0;31mNameError\u001b[0m                                 Traceback (most recent call last)",
            "\u001b[0;32m<ipython-input-34-2dd380cb739c>\u001b[0m in \u001b[0;36m<cell line: 3>\u001b[0;34m()\u001b[0m\n\u001b[1;32m      1\u001b[0m \u001b[0mmy_config\u001b[0m \u001b[0;34m=\u001b[0m \u001b[0;34mr\"--psm 6 --oem 3\"\u001b[0m\u001b[0;34m\u001b[0m\u001b[0;34m\u001b[0m\u001b[0m\n\u001b[1;32m      2\u001b[0m \u001b[0;34m\u001b[0m\u001b[0m\n\u001b[0;32m----> 3\u001b[0;31m \u001b[0mtext\u001b[0m\u001b[0;34m=\u001b[0m\u001b[0mpytesseract\u001b[0m\u001b[0;34m.\u001b[0m\u001b[0mimage_to_string\u001b[0m\u001b[0;34m(\u001b[0m\u001b[0mImage\u001b[0m\u001b[0;34m.\u001b[0m\u001b[0mopen\u001b[0m\u001b[0;34m(\u001b[0m\u001b[0;34m\"/content/xyz.png\"\u001b[0m\u001b[0;34m)\u001b[0m\u001b[0;34m,\u001b[0m\u001b[0mconfig\u001b[0m\u001b[0;34m=\u001b[0m\u001b[0mmy_config\u001b[0m\u001b[0;34m)\u001b[0m\u001b[0;34m\u001b[0m\u001b[0;34m\u001b[0m\u001b[0m\n\u001b[0m\u001b[1;32m      4\u001b[0m \u001b[0mprint\u001b[0m\u001b[0;34m(\u001b[0m\u001b[0mtext\u001b[0m\u001b[0;34m)\u001b[0m\u001b[0;34m\u001b[0m\u001b[0;34m\u001b[0m\u001b[0m\n",
            "\u001b[0;31mNameError\u001b[0m: name 'pytesseract' is not defined"
          ]
        }
      ],
      "source": [
        "my_config = r\"--psm 6 --oem 3\"\n",
        "\n",
        "text=pytesseract.image_to_string(Image.open(\"/content/xyz.png\"),config=my_config)\n",
        "print(text)"
      ]
    },
    {
      "cell_type": "code",
      "execution_count": null,
      "metadata": {
        "id": "KylqMzgagYWt"
      },
      "outputs": [],
      "source": [
        "my_config = r\"--psm 8 --oem 3\"\n",
        "\n",
        "text=pytesseract.image_to_string(Image.open(\"/content/letter.webp\"),config=my_config)\n",
        "print(text)"
      ]
    },
    {
      "cell_type": "markdown",
      "metadata": {
        "id": "ttnnFf9mg8Vs"
      },
      "source": [
        "TABLE DATA EXTRACTION WITHOUT BORDERS"
      ]
    },
    {
      "cell_type": "code",
      "execution_count": null,
      "metadata": {
        "colab": {
          "base_uri": "https://localhost:8080/"
        },
        "id": "uMhW7uWmhAId",
        "outputId": "b1debeca-b2f5-456e-a079-c94a19578009"
      },
      "outputs": [
        {
          "name": "stdout",
          "output_type": "stream",
          "text": [
            "S.No Name Date of Birth Profile Salary\n",
            "1 Jeff Smith 35 Assistant Manager 120,000\n",
            "2 Maria Garcia 42 Department Head 85,000\n",
            "3 David Rodriguez 37 Senior Sales Executive 45,000\n",
            "4 Eyon Shih 32 Sales Executive 35.000\n",
            "\f\n"
          ]
        }
      ],
      "source": [
        "my_config = r\"--psm 6 --oem 3\"\n",
        "\n",
        "text=pytesseract.image_to_string(Image.open(\"/content/table.png\"),config=my_config)\n",
        "print(text)"
      ]
    },
    {
      "cell_type": "markdown",
      "metadata": {
        "id": "dzLi2wIYhYJi"
      },
      "source": [
        "TABLE DATA EXTRACTION WITH GRADIENT SHADING"
      ]
    },
    {
      "cell_type": "code",
      "execution_count": null,
      "metadata": {
        "colab": {
          "base_uri": "https://localhost:8080/"
        },
        "id": "hT5Xao1KhdSc",
        "outputId": "89fa4ba6-fbe0-4670-d8a3-d9d82bb9ad7c"
      },
      "outputs": [
        {
          "name": "stdout",
          "output_type": "stream",
          "text": [
            "S.No. Country Code Country Phone Code\n",
            "1 AW Aruba 297\n",
            "2 AU Australia 61\n",
            "3 AT Austria 43\n",
            "4 AZ Azerbaijan 994\n",
            "5 BS Bahamas 1241\n",
            "6 BH Bahrain 973\n",
            "\f\n"
          ]
        }
      ],
      "source": [
        "my_config = r\"--psm 6 --oem 3\"\n",
        "\n",
        "text=pytesseract.image_to_string(Image.open(\"/content/table_color.png\"),config=my_config)\n",
        "print(text)"
      ]
    },
    {
      "cell_type": "markdown",
      "metadata": {
        "id": "3oDD29fPh9yz"
      },
      "source": [
        "TEXT EXTRACTION FROM TABLE WITH BORDERS"
      ]
    },
    {
      "cell_type": "code",
      "execution_count": null,
      "metadata": {
        "colab": {
          "base_uri": "https://localhost:8080/"
        },
        "id": "mPFqr0fDiCZK",
        "outputId": "ef5b9e99-b4af-4110-fcee-da788ca6e27e"
      },
      "outputs": [
        {
          "name": "stdout",
          "output_type": "stream",
          "text": [
            "Table With Borders and Padding\n",
            "\n",
            "Job Title Email address\n",
            "Anna Fitzgerald example@company.com\n",
            "John Smith Marketing Manager | example2@company.com\n",
            "Zendaya Grace example2@company.com\n",
            "\f\n"
          ]
        }
      ],
      "source": [
        "my_config = r\"--psm 6 --oem 3\"\n",
        "\n",
        "text=pytesseract.image_to_string(Image.open(\"/content/table_border.webp\"),config=my_config)\n",
        "print(text)"
      ]
    },
    {
      "cell_type": "code",
      "execution_count": null,
      "metadata": {
        "colab": {
          "base_uri": "https://localhost:8080/"
        },
        "id": "_S57O5ZbjMmD",
        "outputId": "d7b413c4-28be-48ac-d0b7-9ef607d14f01"
      },
      "outputs": [
        {
          "name": "stdout",
          "output_type": "stream",
          "text": [
            "Person Age\n",
            "\n",
            "Chris 38\n",
            "Dennis 45\n",
            "Sarah 29\n",
            "Karen 47\n",
            "\f\n"
          ]
        }
      ],
      "source": [
        "my_config = r\"--psm 6 --oem 3\"\n",
        "\n",
        "text=pytesseract.image_to_string(Image.open(\"/content/table3.png\"),config=my_config)\n",
        "print(text)"
      ]
    },
    {
      "cell_type": "markdown",
      "metadata": {
        "id": "7gOIJzcjicGC"
      },
      "source": [
        "TEXT EXTRACTION FROM TABLE WITH FORMATTED BORDERS\n",
        "Issue : Text extraction not accurate"
      ]
    },
    {
      "cell_type": "code",
      "execution_count": null,
      "metadata": {
        "colab": {
          "base_uri": "https://localhost:8080/"
        },
        "id": "_mNZwRCni1Wi",
        "outputId": "be3190bd-8d49-490e-8cac-189f75df7b45"
      },
      "outputs": [
        {
          "name": "stdout",
          "output_type": "stream",
          "text": [
            "POWERPOINT TABLE BORDERS\n",
            "Bt Bit arity\n",
            "\f\n"
          ]
        }
      ],
      "source": [
        "my_config = r\"--psm 6 --oem 3\"\n",
        "\n",
        "text=pytesseract.image_to_string(Image.open(\"/content/table_for_borders.png\"),config=my_config)\n",
        "print(text)"
      ]
    },
    {
      "cell_type": "code",
      "execution_count": null,
      "metadata": {
        "colab": {
          "base_uri": "https://localhost:8080/"
        },
        "id": "P12f8S1Si-Zk",
        "outputId": "81ddea75-322f-4d00-88e2-7294b05663cd"
      },
      "outputs": [
        {
          "name": "stdout",
          "output_type": "stream",
          "text": [
            "pe [= l= > le\n",
            "Cc\n",
            "fll le\n",
            "\f\n"
          ]
        }
      ],
      "source": [
        "my_config = r\"--psm 6 --oem 3\"\n",
        "\n",
        "text=pytesseract.image_to_string(Image.open(\"/content/tavle_for_borders1.png\"),config=my_config)\n",
        "print(text)"
      ]
    },
    {
      "cell_type": "markdown",
      "metadata": {
        "id": "uXUpiu9agjwO"
      },
      "source": [
        "DIFFERENT FONTS - TEXT EXTRACTION"
      ]
    },
    {
      "cell_type": "code",
      "execution_count": null,
      "metadata": {
        "colab": {
          "base_uri": "https://localhost:8080/"
        },
        "id": "SFveau6ckd-a",
        "outputId": "811f046f-d1a4-4fa5-a26b-d5f155c85719"
      },
      "outputs": [
        {
          "name": "stdout",
          "output_type": "stream",
          "text": [
            "Hello.\n",
            "\f\n"
          ]
        }
      ],
      "source": [
        "my_config = r\"--psm 8 --oem 3\"\n",
        "\n",
        "text=pytesseract.image_to_string(Image.open(\"/content/hello1.png\"),config=my_config)\n",
        "print(text)"
      ]
    },
    {
      "cell_type": "code",
      "execution_count": null,
      "metadata": {
        "colab": {
          "base_uri": "https://localhost:8080/"
        },
        "id": "pyJ2BDUZkSWq",
        "outputId": "a5c49419-aa97-41f6-e844-851ac04ee1b4"
      },
      "outputs": [
        {
          "name": "stdout",
          "output_type": "stream",
          "text": [
            "Aalllo\n",
            "\f\n"
          ]
        }
      ],
      "source": [
        "my_config = r\"--psm 8 --oem 3\"\n",
        "\n",
        "text=pytesseract.image_to_string(Image.open(\"/content/hello2.jpg\"),config=my_config)\n",
        "print(text)"
      ]
    },
    {
      "cell_type": "code",
      "execution_count": null,
      "metadata": {
        "colab": {
          "base_uri": "https://localhost:8080/"
        },
        "id": "4aFmkPf7lvIL",
        "outputId": "9483bc77-882d-49bb-b842-84ba74fc0b23"
      },
      "outputs": [
        {
          "name": "stdout",
          "output_type": "stream",
          "text": [
            "HELLO.\n",
            "\f\n"
          ]
        }
      ],
      "source": [
        "my_config = r\"--psm 8 --oem 3\"\n",
        "\n",
        "text=pytesseract.image_to_string(Image.open(\"/content/hello3.png\"),config=my_config)\n",
        "print(text)"
      ]
    },
    {
      "cell_type": "code",
      "execution_count": null,
      "metadata": {
        "colab": {
          "base_uri": "https://localhost:8080/"
        },
        "id": "D4hlXiszA9ly",
        "outputId": "66e636c3-4f3f-4490-f4e8-7445ecbff730"
      },
      "outputs": [
        {
          "name": "stdout",
          "output_type": "stream",
          "text": [
            "ee\n",
            "\f\n"
          ]
        }
      ],
      "source": [
        "my_config = r\"--psm 8 --oem 3\"\n",
        "\n",
        "text=pytesseract.image_to_string(Image.open(\"/content/hello4.jpg\"),config=my_config)\n",
        "print(text)"
      ]
    },
    {
      "cell_type": "code",
      "execution_count": null,
      "metadata": {
        "colab": {
          "base_uri": "https://localhost:8080/"
        },
        "id": "GgDbPwDCBN38",
        "outputId": "400bb07f-4c9c-4b86-c41d-d6e0b82866aa"
      },
      "outputs": [
        {
          "name": "stdout",
          "output_type": "stream",
          "text": [
            "ww\n",
            "\f\n"
          ]
        }
      ],
      "source": [
        "my_config = r\"--psm 8 --oem 3\"\n",
        "\n",
        "text=pytesseract.image_to_string(Image.open(\"/content/hello5.png\"),config=my_config)\n",
        "print(text)"
      ]
    },
    {
      "cell_type": "code",
      "execution_count": null,
      "metadata": {
        "id": "h9bFRL0jBYGn"
      },
      "outputs": [],
      "source": []
    }
  ],
  "metadata": {
    "colab": {
      "provenance": []
    },
    "kernelspec": {
      "display_name": "Python 3",
      "name": "python3"
    },
    "language_info": {
      "name": "python"
    }
  },
  "nbformat": 4,
  "nbformat_minor": 0
}